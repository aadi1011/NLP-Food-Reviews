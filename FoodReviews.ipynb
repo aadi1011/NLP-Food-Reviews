{
  "nbformat": 4,
  "nbformat_minor": 0,
  "metadata": {
    "colab": {
      "provenance": [],
      "mount_file_id": "1QcGjVvGioyfaJ9Y4oJN3P67j9Gxgc8i4",
      "authorship_tag": "ABX9TyOFRXcQH7yJs4CHuDnUllEF"
    },
    "kernelspec": {
      "name": "python3",
      "display_name": "Python 3"
    },
    "language_info": {
      "name": "python"
    }
  },
  "cells": [
    {
      "cell_type": "code",
      "execution_count": null,
      "metadata": {
        "id": "sB2vv0RF3F0Z"
      },
      "outputs": [],
      "source": [
        "# import libraries\n"
      ]
    }
  ]
}